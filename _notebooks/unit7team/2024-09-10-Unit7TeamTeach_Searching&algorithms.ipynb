{
 "cells": [
  {
   "cell_type": "markdown",
   "metadata": {},
   "source": [
    "---\n",
    "layout: post\n",
    "toc: true\n",
    "title: Unit 7 ArrayList P3 \n",
    "description: A Unit of documents that overview Array Lists in Java\n",
    "authors: Drishya, Arnav, Tanuj, Jason\n",
    "categories: [AP CSA]\n",
    "courses: {'csa': {'week': 6}}\n",
    "type: ccc\n",
    "permalink: /csa/unit7-p3/unit7-3\n",
    "menu: nav/csa_unit7_p3.html\n",
    "---"
   ]
  },
  {
   "cell_type": "code",
   "execution_count": null,
   "metadata": {
    "vscode": {
     "languageId": "java"
    }
   },
   "outputs": [],
   "source": [
    "List<Integer> list1 = new ArrayList<Integer>();\n",
    "list1.add(new Integer(1));\n",
    "list1.add(new Integer(2));\n",
    "list1.add(new Integer(3));\n",
    "list1.remove(1);"
   ]
  },
  {
   "cell_type": "markdown",
   "metadata": {},
   "source": [
    "A. [2, 3]\n",
    "\n",
    "B. [1, 2, 3]\n",
    "\n",
    "C. [1, 2]\n",
    "\n",
    "D. [1, 3]"
   ]
  },
  {
   "cell_type": "code",
   "execution_count": null,
   "metadata": {
    "vscode": {
     "languageId": "java"
    }
   },
   "outputs": [],
   "source": [
    "List<Integer> numList = new ArrayList<Integer>();\n",
    "numList.add(new Integer(1));\n",
    "numList.add(new Integer(2));\n",
    "numList.add(new Integer(3));\n",
    "numList.set(2,new Integer(4));\n",
    "numList.add(1, new Integer(5));\n",
    "numList.add(new Integer(6));"
   ]
  },
  {
   "cell_type": "markdown",
   "metadata": {},
   "source": [
    "A. [1, 2, 3, 4, 5]\n",
    "\n",
    "B. [1, 2, 4, 5, 6]\n",
    "\n",
    "C. [1, 2, 5, 4, 6]\n",
    "\n",
    "D. [1, 5, 2, 4, 6]"
   ]
  },
  {
   "cell_type": "code",
   "execution_count": null,
   "metadata": {
    "vscode": {
     "languageId": "java"
    }
   },
   "outputs": [],
   "source": [
    "public class ArrayListExample {\n",
    "\n",
    "    private double getMax(double[] numbers) {\n",
    "        double highest = numbers[0];\n",
    "        for (double num : numbers) {\n",
    "            if (num > highest) {\n",
    "                highest = num;\n",
    "            }\n",
    "        }\n",
    "        return highest;\n",
    "    }\n",
    "\n",
    "    public static void main(String[] args) {\n",
    "        double[] nums = {1.0, 3.8, 2.0, 2.0, 1.9, 70.2, 2.0, 4.0, 6.3, 2.1, 5.0, 10.7};\n",
    "        ArrayListExample instance = new ArrayListExample();\n",
    "        System.out.println(instance.getMax(nums));\n",
    "    }\n",
    "}\n",
    "\n",
    "ArrayListExample.main(null);"
   ]
  },
  {
   "cell_type": "markdown",
   "metadata": {},
   "source": [
    "When you look at the code above you should pay attention to the getMax() method. What the method is doing is it accepts a list of doubles as input and then uses a for loop to determine the highest value in the list."
   ]
  },
  {
   "cell_type": "markdown",
   "metadata": {},
   "source": [
    "Now instead of using just a List of Doubles, lets use an ArrayList of Doubles. "
   ]
  },
  {
   "cell_type": "code",
   "execution_count": null,
   "metadata": {
    "vscode": {
     "languageId": "java"
    }
   },
   "outputs": [],
   "source": [
    "\n",
    "public class ArrayListExample {\n",
    "\n",
    "    private double getMax(ArrayList<Double> numbers) {\n",
    "        double highest = numbers.get(0);\n",
    "        for (double num : numbers) {\n",
    "            if (num > highest) {\n",
    "                highest = num;\n",
    "            }\n",
    "        }\n",
    "        return highest;\n",
    "    }\n",
    "\n",
    "    public static void main(String[] args) {\n",
    "        ArrayList<Double> nums = new ArrayList<>(Arrays.asList(1.0, 3.8, 2.0, 2.0, 1.9, 70.2, 2.0, 4.0, 6.3, 2.1, 5.0, 10.7));\n",
    "        ArrayListExample instance = new ArrayListExample();\n",
    "        System.out.println(instance.getMax(nums));\n",
    "    }\n",
    "}\n",
    "\n",
    "ArrayListExample.main(null);"
   ]
  },
  {
   "cell_type": "markdown",
   "metadata": {},
   "source": [
    "Finish the code below so that it uses the findSum() method and it finds the sum of the numbers. "
   ]
  },
  {
   "cell_type": "code",
   "execution_count": null,
   "metadata": {
    "vscode": {
     "languageId": "java"
    }
   },
   "outputs": [],
   "source": [
    "public class ArrayListHacks {\n",
    "    private int findSum(ArrayList<Integer> values) {\n",
    "        // Your code here\n",
    "        return 0;\n",
    "    }\n",
    "\n",
    "    public static void main(String[] args) {\n",
    "        ArrayList<Integer> nums = new ArrayList<>();\n",
    "        nums.add(0);\n",
    "        nums.add(1);\n",
    "        nums.add(2);\n",
    "        nums.add(3);\n",
    "        nums.add(5);\n",
    "        nums.add(8);\n",
    "\n",
    "        ArrayListHacks hacks = new ArrayListHacks();\n",
    "        hacks.findSum(nums);\n",
    "    }\n",
    "}\n",
    "\n",
    "ArrayListHacks.main(null);"
   ]
  },
  {
   "cell_type": "markdown",
   "metadata": {},
   "source": [
    "# 7.5 Searching"
   ]
  },
  {
   "cell_type": "markdown",
   "metadata": {},
   "source": [
    "## We will be learning about Sequential Searching but also known as Linear Searching. \n",
    "\n",
    "Linear search looks for a value in unsorted data by checking each element in order that the data is in. It then returns the index if found, or -1 if the value isn’t in the list."
   ]
  },
  {
   "cell_type": "code",
   "execution_count": null,
   "metadata": {
    "vscode": {
     "languageId": "java"
    }
   },
   "outputs": [],
   "source": [
    "public class ArraySearcher {\n",
    "\n",
    "    public static int sequentialSearch(int[] elements, int target) {\n",
    "        for (int j = 0; j < elements.length; j++) {\n",
    "            if (elements[j] == target) {\n",
    "                return j;\n",
    "            }\n",
    "        }\n",
    "        return -1;\n",
    "    }\n",
    "\n",
    "    public static void main(String[] args) {\n",
    "        int[] numArray = {3, -2, 9, 38, -23};\n",
    "        System.out.println(\"Tests of sequentialSearch\");\n",
    "        System.out.println(sequentialSearch(numArray, 3));  \n",
    "        System.out.println(sequentialSearch(numArray, 9));  // Expected output: 2\n",
    "        System.out.println(sequentialSearch(numArray, -23)); // Expected output: 4\n",
    "        System.out.println(sequentialSearch(numArray, 99)); // Expected output: -1\n",
    "    }\n",
    "}\n",
    "\n",
    "\n",
    "ArraySearcher.main(null);"
   ]
  },
  {
   "cell_type": "markdown",
   "metadata": {},
   "source": [
    "You can also look for a String in an array or list, but be sure to use equals rather than ==. Remember that == is only true when the two references refer to the same String object, while equals returns true if the characters in the two String objects are the same.\n"
   ]
  },
  {
   "cell_type": "code",
   "execution_count": null,
   "metadata": {
    "vscode": {
     "languageId": "java"
    }
   },
   "outputs": [],
   "source": [
    "public class SearchTest\n",
    "{\n",
    "\n",
    "    public static int sequentialSearch(String[] elements, String target)\n",
    "    {\n",
    "        for (int j = 0; j < elements.length; j++)\n",
    "        {\n",
    "            if (elements[j].equals(target))\n",
    "            {\n",
    "                return j;\n",
    "            }\n",
    "        }\n",
    "        return -1;\n",
    "    }\n",
    "\n",
    "    public static void main(String[] args)\n",
    "    {\n",
    "        String[] arr1 = {\"blue\", \"red\", \"purple\", \"green\"};\n",
    "\n",
    "        // test when the target is in the array\n",
    "        int index = sequentialSearch(arr1, \"red\");\n",
    "        System.out.println(index);\n",
    "\n",
    "        // test when the target is not in the array\n",
    "        index = sequentialSearch(arr1, \"pink\");\n",
    "        System.out.println(index);\n",
    "    }\n",
    "}\n",
    "\n",
    "SearchTest.main(null)\n"
   ]
  }
 ],
 "metadata": {
  "language_info": {
   "name": "python"
  }
 },
 "nbformat": 4,
 "nbformat_minor": 2
}
