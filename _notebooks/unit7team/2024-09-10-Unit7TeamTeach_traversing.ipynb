{
 "cells": [
  {
   "cell_type": "markdown",
   "metadata": {},
   "source": [
    "---\n",
    "layout: post\n",
    "toc: true\n",
    "title: Unit 7 ArrayList P3 \n",
    "description: A Unit of documents that overview Array Lists in Java\n",
    "authors: Drishya, Arnav, Tanuj, Jason\n",
    "categories: [AP CSA]\n",
    "# courses: {'csa': {'week': 6}}\n",
    "type: ccc\n",
    "permalink: /csa/unit7-p3/unit7-2\n",
    "menu: nav/csa_unit7_p3.html\n",
    "---"
   ]
  },
  {
   "cell_type": "markdown",
   "metadata": {},
   "source": [
    "# 7.3: Traversing Arrays"
   ]
  },
  {
   "cell_type": "markdown",
   "metadata": {},
   "source": [
    "variable.get(i) retreives #i value.\n",
    "variable.remove(i) removes #i value from a list.\n",
    "    when you remove #i value from a list, it will move all the values in that ArrayList up one value.\n",
    "under and over traversing results in errors.\n",
    "\n",
    "traversing using and enhanced for loop\n",
    "    known as *for-each*\n",
    "        goes from first to last order in an ArrayList\n",
    "        easier to setup than for loop\n",
    "structure consists of:"
   ]
  },
  {
   "cell_type": "code",
   "execution_count": null,
   "metadata": {
    "vscode": {
     "languageId": "java"
    }
   },
   "outputs": [],
   "source": [
    "for (DataType variable : Collection )\n",
    "{\n",
    "    // statement one;\n",
    "    // statement two;\n",
    "    // ...\n",
    "}"
   ]
  },
  {
   "cell_type": "markdown",
   "metadata": {},
   "source": [
    " example of how to use an enhanced for loop is this segment of code being used to determine the total number of charecters needed to write out the roster of student names:"
   ]
  },
  {
   "cell_type": "code",
   "execution_count": null,
   "metadata": {
    "vscode": {
     "languageId": "java"
    }
   },
   "outputs": [],
   "source": [
    "int sum=0;\n",
    "for (String names : roster)\n",
    "{\n",
    "    sum = sum +name.length();\n",
    "}"
   ]
  },
  {
   "cell_type": "markdown",
   "metadata": {},
   "source": [
    "the biggest flaw of all with enhanced for loops is the fact that rather than updati0ng the ArrayList, they create a copy of the ArrayList. when you try to add entry, it brings up the error: ConcurrentModificationException"
   ]
  },
  {
   "cell_type": "code",
   "execution_count": null,
   "metadata": {
    "vscode": {
     "languageId": "java"
    }
   },
   "outputs": [],
   "source": [
    "import java.util.ArrayList"
   ]
  },
  {
   "cell_type": "markdown",
   "metadata": {},
   "source": [
    "you cannot declare or instantiate a ArrayList witha  primitive data type\n",
    "include parenthasis () at the end of the Arraylist Constructor call\n",
    "not specifying the element type is a common problem\n",
    "when removing elements, ensure that you are not skipping over elements after removal.\n"
   ]
  },
  {
   "cell_type": "code",
   "execution_count": null,
   "metadata": {
    "vscode": {
     "languageId": "java"
    }
   },
   "outputs": [],
   "source": [
    "swapConsecutive(ArrayList<Double> myList)"
   ]
  },
  {
   "cell_type": "markdown",
   "metadata": {},
   "source": [
    "^swaps items in an arraylist "
   ]
  },
  {
   "cell_type": "markdown",
   "metadata": {},
   "source": [
    "<!-- Quiz Section -->\n",
    "<section class=\"quiz\" style=\"margin-top: 50px; padding: 20px; background-color: #1a1a1a; border-radius: 15px;\">\n",
    "  <h2 class=\"quiz-title\">Quick Quiz</h2>\n",
    "  <form id=\"quizForm\" class=\"quiz-form\">\n",
    "    <p class=\"quiz-question\">1. Which of the following are methods to traverse arrays?</p>\n",
    "    <label><input type=\"radio\" name=\"q1\" value=\"swapConsecutive\"> swapConsecutive</label><br>\n",
    "    <label><input type=\"radio\" name=\"q1\" value=\"variable.get\"> variable.get</label><br>\n",
    "    <label><input type=\"radio\" name=\"q1\" value=\"All of the above\"> All of the above</label><br><br>\n",
    "    <p class=\"quiz-question\">2. wtv?</p>\n",
    "    <label><input type=\"radio\" name=\"q2\" value=\"USA\"> USA</label><br>\n",
    "    <label><input type=\"radio\" name=\"q2\" value=\"China\"> China</label><br>\n",
    "    <label><input type=\"radio\" name=\"q2\" value=\"Norway\"> Norway</label><br><br>\n",
    "    <button type=\"button\" class=\"quiz-button\" onclick=\"checkQuiz()\">Submit</button>\n",
    "  </form>\n",
    "\n",
    "  <div id=\"result\" class=\"quiz-result\"></div>\n",
    "</section>\n",
    "\n",
    "<style>\n",
    "  .quiz-title {\n",
    "    color: #88bc4c;\n",
    "    text-align: center;\n",
    "    font-size: 32px;\n",
    "    margin-bottom: 20px;\n",
    "    animation: fadeIn 1s ease-in-out;\n",
    "  }\n",
    "\n",
    "  .quiz-form {\n",
    "    color: #f0f0f0;\n",
    "    font-size: 18px;\n",
    "    animation: fadeInUp 1.5s ease-in-out;\n",
    "  }\n",
    "\n",
    "  .quiz-question {\n",
    "    font-size: 22px;\n",
    "    margin-bottom: 10px;\n",
    "    color: #88bc4c;\n",
    "    font-weight: bold;\n",
    "  }\n",
    "\n",
    "  .quiz-button {\n",
    "    background-color: #88bc4c;\n",
    "    padding: 10px 20px;\n",
    "    color: #fff;\n",
    "    border: none;\n",
    "    border-radius: 5px;\n",
    "    cursor: pointer;\n",
    "    transition: background-color 0.3s ease;\n",
    "    font-size: 18px;\n",
    "  }\n",
    "\n",
    "  .quiz-button:hover {\n",
    "    background-color: #76a742;\n",
    "  }\n",
    "\n",
    "  .quiz-result {\n",
    "    margin-top: 20px;\n",
    "    font-size: 22px;\n",
    "    color: #88bc4c;\n",
    "    text-align: center;\n",
    "    opacity: 0;\n",
    "    animation: fadeInResult 1.5s ease-in-out forwards;\n",
    "  }\n",
    "\n",
    "  /* Animations */\n",
    "  @keyframes fadeIn {\n",
    "    from { opacity: 0; }\n",
    "    to { opacity: 1; }\n",
    "  }\n",
    "\n",
    "  @keyframes fadeInUp {\n",
    "    from {\n",
    "      opacity: 0;\n",
    "      transform: translateY(20px);\n",
    "    }\n",
    "    to {\n",
    "      opacity: 1;\n",
    "      transform: translateY(0);\n",
    "    }\n",
    "  }\n",
    "\n",
    "  @keyframes fadeInResult {\n",
    "    to {\n",
    "      opacity: 1;\n",
    "    }\n",
    "  }\n",
    "        \n",
    "  /* From Uiverse.io by mrtqzbek11 */ \n",
    "  button {\n",
    "    width: 165px;\n",
    "    height: 62px;\n",
    "    cursor: pointer;\n",
    "    color: #fff;\n",
    "    font-size: 17px;\n",
    "    border-radius: 1rem;\n",
    "    border: none;\n",
    "    position: relative;\n",
    "    background: #100720;\n",
    "    transition: 0.1s;\n",
    "  }\n",
    "  \n",
    "  button::after {\n",
    "    content: '';\n",
    "    width: 100%;\n",
    "    height: 100%;\n",
    "    background-image: radial-gradient( circle farthest-corner at 10% 20%,  rgba(136,188,76,1) 17.8%, rgba(54,99,27,1) 100.2% );\n",
    "    filter: blur(15px);\n",
    "    z-index: -1;\n",
    "    position: absolute;\n",
    "    left: 0;\n",
    "    top: 0;\n",
    "  }\n",
    "  \n",
    "  button:active {\n",
    "    transform: scale(0.9) rotate(3deg);\n",
    "    background: radial-gradient( circle farthest-corner at 10% 20%,  rgba(136,188,76,1) 17.8%, rgba(54,99,27,1) 100.2% );\n",
    "    transition: 0.5s;\n",
    "  }\n",
    "\n",
    "\n",
    "  /* Smooth Radio Buttons Styling */\n",
    "  input[type=\"radio\"] {\n",
    "    margin-right: 10px;\n",
    "    accent-color: #88bc4c;\n",
    "    transform: scale(1.5);\n",
    "  }\n",
    "\n",
    "  /* Form Spacing */\n",
    "  label {\n",
    "    display: block;\n",
    "    margin-bottom: 10px;\n",
    "  }\n",
    "</style>\n",
    "\n",
    "<script>\n",
    "  function checkQuiz() {\n",
    "    let score = 0;\n",
    "    const answers = {\n",
    "      q1: \"All of the above\",\n",
    "      q2: \"Norway\"\n",
    "    };\n",
    "    \n",
    "    const form = document.getElementById(\"quizForm\");\n",
    "    if (form.q1.value === answers.q1) score++;\n",
    "    if (form.q2.value === answers.q2) score++;\n",
    "    \n",
    "    document.getElementById(\"result\").textContent = \"You scored \" + score + \" out of 2. :))\";\n",
    "  }"
   ]
  },
  {
   "cell_type": "markdown",
   "metadata": {},
   "source": []
  }
 ],
 "metadata": {
  "language_info": {
   "name": "python"
  }
 },
 "nbformat": 4,
 "nbformat_minor": 2
}
