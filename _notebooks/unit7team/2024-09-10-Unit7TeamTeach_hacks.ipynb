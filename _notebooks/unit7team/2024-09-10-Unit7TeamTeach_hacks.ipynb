{
 "cells": [
  {
   "cell_type": "markdown",
   "metadata": {},
   "source": [
    "---\n",
    "layout: post\n",
    "toc: true\n",
    "title: Unit 7 ArrayLists \n",
    "description: ArrayLists Hacks\n",
    "authors: Drishya, Arnav, Tanuj, Jason\n",
    "categories: [AP CSA]\n",
    "courses: {'csa': {'week': 6}}\n",
    "type: ccc\n",
    "permalink: /csa/unit7-p3/unit7-6\n",
    "menu: nav/csa_unit7_p3.html\n",
    "---"
   ]
  }
 ],
 "metadata": {
  "language_info": {
   "name": "python"
  }
 },
 "nbformat": 4,
 "nbformat_minor": 2
}
