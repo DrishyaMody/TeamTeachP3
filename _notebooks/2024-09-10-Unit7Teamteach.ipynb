{
 "cells": [
  {
   "cell_type": "markdown",
   "metadata": {},
   "source": [
    "**UNIT 7: ARRAY LISTS**\n",
    "\n",
    "<p>7.1: Array List Intro</p>\n",
    "7.2: Array List Methods</p>\n",
    "7.3 Traversing Array Lists</p>\n",
    "7.4: Developing Algorithms Using Array Lists</p>\n",
    "7.5: Searching</p>\n",
    "7.6: Sorting</p>\n",
    "7.7: Ethical issues around Data Collection</p>"
   ]
  },
  {
   "cell_type": "markdown",
   "metadata": {
    "vscode": {
     "languageId": "plaintext"
    }
   },
   "source": [
    "**7.1 ARRAY LIST INTRO**\n",
    "- ArrayList is a resizeable array\n",
    "- ArrayLists are dynamic meaning that its size can be altered as necessary \n",
    "- Instead of creating a new array of a different size and copying the data from the initial array to the new one, we can use ArrayLists\n",
    "\n",
    "- To use an arrayList it is necessary to be imported from the java util package\n"
   ]
  },
  {
   "cell_type": "code",
   "execution_count": 6,
   "metadata": {
    "vscode": {
     "languageId": "java"
    }
   },
   "outputs": [],
   "source": [
    "import java.util.ArrayList;  // Import the ArrayList class\n",
    "// Declare and initialize an ArrayList of integers\n",
    "ArrayList<Integer> numbersList = new ArrayList<>();"
   ]
  },
  {
   "cell_type": "code",
   "execution_count": null,
   "metadata": {
    "vscode": {
     "languageId": "java"
    }
   },
   "outputs": [],
   "source": []
  }
 ],
 "metadata": {
  "kernelspec": {
   "display_name": "Java",
   "language": "java",
   "name": "java"
  },
  "language_info": {
   "codemirror_mode": "java",
   "file_extension": ".jshell",
   "mimetype": "text/x-java-source",
   "name": "Java",
   "pygments_lexer": "java",
   "version": "17.0.12+7"
  }
 },
 "nbformat": 4,
 "nbformat_minor": 2
}
