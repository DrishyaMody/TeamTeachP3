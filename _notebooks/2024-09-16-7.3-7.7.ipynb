{
 "cells": [
  {
   "cell_type": "markdown",
   "metadata": {},
   "source": [
    "# 7.3: Traversing Arrays"
   ]
  },
  {
   "cell_type": "markdown",
   "metadata": {},
   "source": [
    "variable.get(i) retreives #i value.\n",
    "variable.remove(i) removes #i value from a list.\n",
    "    when you remove #i value from a list, it will move all the values in that ArrayList up one value.\n",
    "under and over traversing results in errors.\n",
    "\n",
    "traversing using and enhanced for loop\n",
    "    known as *for-each*\n",
    "        goes from first to last order in an ArrayList\n",
    "        easier to setup than for loop\n",
    "structure consists of:"
   ]
  },
  {
   "cell_type": "code",
   "execution_count": null,
   "metadata": {
    "vscode": {
     "languageId": "java"
    }
   },
   "outputs": [],
   "source": [
    "for (DataType variable : Collection )\n",
    "{\n",
    "    // statement one;\n",
    "    // statement two;\n",
    "    // ...\n",
    "}"
   ]
  },
  {
   "cell_type": "markdown",
   "metadata": {},
   "source": [
    " example of how to use an enhanced for loop is this segment of code being used to determine the total number of charecters needed to write out the roster of student names:"
   ]
  },
  {
   "cell_type": "code",
   "execution_count": null,
   "metadata": {
    "vscode": {
     "languageId": "java"
    }
   },
   "outputs": [],
   "source": [
    "int sum=0;\n",
    "for (String names : roster)\n",
    "{\n",
    "    sum = sum +name.length();\n",
    "}"
   ]
  },
  {
   "cell_type": "markdown",
   "metadata": {},
   "source": [
    "the biggest flaw of all with enhanced for loops is the fact that rather than updati0ng the ArrayList, they create a copy of the ArrayList. when you try to add entry, it brings up the error: ConcurrentModificationException"
   ]
  },
  {
   "cell_type": "code",
   "execution_count": null,
   "metadata": {
    "vscode": {
     "languageId": "java"
    }
   },
   "outputs": [],
   "source": [
    "import java.util.ArrayList"
   ]
  },
  {
   "cell_type": "markdown",
   "metadata": {},
   "source": [
    "- you cannot declare or instantiate a ArrayList with a primitive data type\n",
    "- include parenthasis () at the end of the Arraylist Constructor call\n",
    "not specifying the element type is a common problem\n",
    "when removing elements, ensure that you are not skipping over elements after removal."
   ]
  },
  {
   "cell_type": "code",
   "execution_count": null,
   "metadata": {
    "vscode": {
     "languageId": "java"
    }
   },
   "outputs": [],
   "source": [
    "swapConsecutive(ArrayList<Double> myList) "
   ]
  },
  {
   "cell_type": "markdown",
   "metadata": {},
   "source": [
    "^swaps items in an arraylist \n",
    "Overall, traversing and replacing elements in an Array can best be done through for loops and advanced for loops which use the get and swap functions typically"
   ]
  },
  {
   "cell_type": "markdown",
   "metadata": {},
   "source": [
    "# 7.7:Ethical issues around data collection"
   ]
  },
  {
   "cell_type": "markdown",
   "metadata": {},
   "source": [
    "- **Privacy Risks**: Personal data can be vulnerable to breaches or misuse when stored in systems. Programmers need to protect it.\n",
    "  \n",
    "- **Protection Methods**:\n",
    "  - **Delete Data**: Remove personal info when it’s no longer needed.\n",
    "  - **Minimize Data**: Only collect essential information.\n",
    "  - **Anonymize Data**: Use methods like `hashCode()` in Java to hide real info.\n",
    "  - **Encrypt**: Secure data so it can’t be easily accessed even if stolen.\n",
    "\n",
    "The main goal? Keep personal data safe with smart coding practices."
   ]
  }
 ],
 "metadata": {
  "language_info": {
   "name": "python"
  }
 },
 "nbformat": 4,
 "nbformat_minor": 2
}
