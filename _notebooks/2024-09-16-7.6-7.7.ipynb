{
 "cells": [
  {
   "cell_type": "markdown",
   "metadata": {},
   "source": [
    "# 7.3: Traversing Arrays"
   ]
  },
  {
   "cell_type": "markdown",
   "metadata": {},
   "source": []
  },
  {
   "cell_type": "markdown",
   "metadata": {},
   "source": [
    "# 7.4:Ethical issues around data collection"
   ]
  },
  {
   "cell_type": "markdown",
   "metadata": {},
   "source": [
    "- **Privacy Risks**: Personal data can be vulnerable to breaches or misuse when stored in systems. Programmers need to protect it.\n",
    "  \n",
    "- **Protection Methods**:\n",
    "  - **Delete Data**: Remove personal info when it’s no longer needed.\n",
    "  - **Minimize Data**: Only collect essential information.\n",
    "  - **Anonymize Data**: Use methods like `hashCode()` in Java to hide real info.\n",
    "  - **Encrypt**: Secure data so it can’t be easily accessed even if stolen.\n",
    "\n",
    "The main goal? Keep personal data safe with smart coding practices."
   ]
  },
  {
   "cell_type": "markdown",
   "metadata": {},
   "source": [
    "# 7th mini Hack:\n",
    "What can be used in place of the blank to ensure the users data is cleared?"
   ]
  },
  {
   "cell_type": "code",
   "execution_count": null,
   "metadata": {
    "vscode": {
     "languageId": "java"
    }
   },
   "outputs": [],
   "source": [
    "ArrayList<String> userData = new ArrayList<>();\n",
    "userData.add(\"John Doe\");\n",
    "userData.add(\"john@example.com\");\n",
    "\n",
    "// Once you're done using the data\n",
    "userData.clear(); // Removes all entries\n",
    "userData = _____;  //"
   ]
  }
 ],
 "metadata": {
  "language_info": {
   "name": "python"
  }
 },
 "nbformat": 4,
 "nbformat_minor": 2
}
